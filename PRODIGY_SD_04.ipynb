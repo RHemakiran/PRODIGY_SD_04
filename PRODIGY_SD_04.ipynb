{
  "nbformat": 4,
  "nbformat_minor": 0,
  "metadata": {
    "colab": {
      "provenance": [],
      "authorship_tag": "ABX9TyP6SYBcJGHXcQ0+RrIuic5P",
      "include_colab_link": true
    },
    "kernelspec": {
      "name": "python3",
      "display_name": "Python 3"
    },
    "language_info": {
      "name": "python"
    }
  },
  "cells": [
    {
      "cell_type": "markdown",
      "metadata": {
        "id": "view-in-github",
        "colab_type": "text"
      },
      "source": [
        "<a href=\"https://colab.research.google.com/github/RHemakiran/PRODIGY_SD_04/blob/main/PRODIGY_SD_04.ipynb\" target=\"_parent\"><img src=\"https://colab.research.google.com/assets/colab-badge.svg\" alt=\"Open In Colab\"/></a>"
      ]
    },
    {
      "cell_type": "code",
      "execution_count": 2,
      "metadata": {
        "colab": {
          "base_uri": "https://localhost:8080/"
        },
        "id": "ufyVRaqSBYgu",
        "outputId": "aa6c4d9f-84d4-4409-d276-3d9e69351124"
      },
      "outputs": [
        {
          "output_type": "stream",
          "name": "stdout",
          "text": [
            "Enter the Sudoku puzzle row by row. Use 0 for empty cells:\n",
            "Enter row 1 (9 numbers separated by spaces): 0 2 6 0 0 0 0 0 1\n",
            "Enter row 2 (9 numbers separated by spaces): 0 4 5 0 7 1 0 0 0\n",
            "Enter row 3 (9 numbers separated by spaces): 8 0 1 0 0 6 0 7 0\n",
            "Enter row 4 (9 numbers separated by spaces): 0 0 0 1 3 2 6 8 0\n",
            "Enter row 5 (9 numbers separated by spaces): 5 3 8 0 0 0 0 1 9\n",
            "Enter row 6 (9 numbers separated by spaces): 0 0 0 0 0 0 7 0 4\n",
            "Enter row 7 (9 numbers separated by spaces): 0 0 0 0 2 7 0 6 8\n",
            "Enter row 8 (9 numbers separated by spaces): 0 8 0 9 1 5 0 0 2\n",
            "Enter row 9 (9 numbers separated by spaces): 0 5 0 6 8 3 0 9 7\n",
            "\n",
            "Solving the Sudoku puzzle...\n",
            "\n",
            "Sudoku puzzle solved:\n",
            "7 2 6 3 4 9 8 5 1\n",
            "3 4 5 8 7 1 9 2 6\n",
            "8 9 1 2 5 6 4 7 3\n",
            "4 7 9 1 3 2 6 8 5\n",
            "5 3 8 7 6 4 2 1 9\n",
            "1 6 2 5 9 8 7 3 4\n",
            "9 1 3 4 2 7 5 6 8\n",
            "6 8 7 9 1 5 3 4 2\n",
            "2 5 4 6 8 3 1 9 7\n"
          ]
        }
      ],
      "source": [
        "def print_grid(grid):\n",
        "    for row in grid:\n",
        "        print(\" \".join(str(num) for num in row))\n",
        "\n",
        "\n",
        "def find_empty_location(grid):\n",
        "    for i in range(9):\n",
        "        for j in range(9):\n",
        "            if grid[i][j] == 0:\n",
        "                return (i, j)\n",
        "    return None\n",
        "\n",
        "\n",
        "def is_safe(grid, row, col, num):\n",
        "    # Check the row\n",
        "    if num in grid[row]:\n",
        "        return False\n",
        "\n",
        "    # Check the column\n",
        "    if num in [grid[i][col] for i in range(9)]:\n",
        "        return False\n",
        "\n",
        "    # Check the 3x3 subgrid\n",
        "    start_row = row - row % 3\n",
        "    start_col = col - col % 3\n",
        "    for i in range(3):\n",
        "        for j in range(3):\n",
        "            if grid[i + start_row][j + start_col] == num:\n",
        "                return False\n",
        "\n",
        "    return True\n",
        "\n",
        "\n",
        "def solve_sudoku(grid):\n",
        "    empty_location = find_empty_location(grid)\n",
        "\n",
        "    # If there's no empty location, we've solved the puzzle\n",
        "    if not empty_location:\n",
        "        return True\n",
        "\n",
        "    row, col = empty_location\n",
        "\n",
        "    for num in range(1, 10):\n",
        "        if is_safe(grid, row, col, num):\n",
        "            grid[row][col] = num\n",
        "\n",
        "            # Recursively try to fill the rest of the grid\n",
        "            if solve_sudoku(grid):\n",
        "                return True\n",
        "\n",
        "            # If this number doesn't lead to a solution, backtrack\n",
        "            grid[row][col] = 0\n",
        "\n",
        "    return False\n",
        "\n",
        "\n",
        "def input_sudoku():\n",
        "    grid = []\n",
        "    print(\"Enter the Sudoku puzzle row by row. Use 0 for empty cells:\")\n",
        "    for i in range(9):\n",
        "        row = list(map(int, input(f\"Enter row {i + 1} (9 numbers separated by spaces): \").split()))\n",
        "        grid.append(row)\n",
        "    return grid\n",
        "\n",
        "\n",
        "if __name__ == \"__main__\":\n",
        "    grid = input_sudoku()\n",
        "\n",
        "    print(\"\\nSolving the Sudoku puzzle...\\n\")\n",
        "\n",
        "    if solve_sudoku(grid):\n",
        "        print(\"Sudoku puzzle solved:\")\n",
        "        print_grid(grid)\n",
        "    else:\n",
        "        print(\"No solution exists.\")\n"
      ]
    }
  ]
}